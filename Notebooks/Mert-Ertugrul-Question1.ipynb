{
 "cells": [
  {
   "cell_type": "code",
   "execution_count": 20,
   "metadata": {
    "pycharm": {
     "is_executing": false
    }
   },
   "outputs": [],
   "source": [
    "from pyspark import SparkContext\n",
    "from math import sin, cos, sqrt, atan2, radians\n",
    "from geopy.distance import geodesic, great_circle"
   ]
  },
  {
   "cell_type": "code",
   "execution_count": 21,
   "metadata": {
    "pycharm": {
     "is_executing": false,
     "name": "#%%\n"
    }
   },
   "outputs": [],
   "source": [
    "sc = SparkContext.getOrCreate()"
   ]
  },
  {
   "cell_type": "code",
   "execution_count": 22,
   "metadata": {
    "pycharm": {
     "is_executing": false,
     "name": "#%%\n"
    }
   },
   "outputs": [],
   "source": [
    "capitals_rdd = sc.textFile('datasets/Capitals.txt')"
   ]
  },
  {
   "cell_type": "code",
   "execution_count": 23,
   "metadata": {
    "pycharm": {
     "is_executing": false,
     "name": "#%%\n"
    }
   },
   "outputs": [
    {
     "name": "stdout",
     "output_type": "stream",
     "text": [
      "['Afghanistan Flag Icon \\tAfghanistan \\tKabul \\t34,53 \\t69,17\\t', 'Albania Flag Icon \\tAlbania \\tTirana \\t41,33 \\t19,82\\t', 'Algeria Flag Icon \\tAlgeria \\tAlgiers \\t36,75 \\t3,04\\t', 'American Samoa Flag Icon \\tAmerican Samoa \\tPago Pago \\t-14,28 \\t-170,70\\t', 'Andorra Flag Icon \\tAndorra \\tAndorra la Vella \\t42,51 \\t1,52\\t', 'Angola Flag Icon \\tAngola \\tLuanda \\t-8,84 \\t13,23\\t', 'Anguilla Flag Icon \\tAnguilla \\tThe Valley \\t18,22 \\t-63,06\\t', \"Antigua and Barbuda Flag Icon \\tAntigua and Barbuda \\tSt. John's \\t17,12 \\t-61,85\\t\", 'Argentina Flag Icon \\tArgentina \\tBuenos Aires \\t-34,61 \\t-58,38\\t', 'Armenia Flag Icon \\tArmenia \\tYerevan \\t40,18 \\t44,51\\t']\n"
     ]
    }
   ],
   "source": [
    "print(capitals_rdd.take(10))"
   ]
  },
  {
   "cell_type": "markdown",
   "metadata": {},
   "source": [
    "# Parsing Country Information"
   ]
  },
  {
   "cell_type": "code",
   "execution_count": 24,
   "metadata": {
    "pycharm": {
     "is_executing": false,
     "name": "#%%\n"
    }
   },
   "outputs": [],
   "source": [
    "def split_capitals_to_tuple(satir):\n",
    "    arr = satir.split(\"\\t\")\n",
    "    country = arr[1].strip()\n",
    "    capital = arr[2].strip()\n",
    "    lng = float(arr[3].replace(',', '.').strip())\n",
    "    lat = float(arr[4].replace(',', '.').strip())\n",
    "    return (country,capital,lng,lat)"
   ]
  },
  {
   "cell_type": "code",
   "execution_count": 25,
   "metadata": {
    "pycharm": {
     "is_executing": false,
     "name": "#%%\n"
    }
   },
   "outputs": [],
   "source": [
    "def split_capitals_to_tuple_nc(satir):\n",
    "    #No Country\n",
    "    arr = satir.split(\"\\t\")\n",
    "    capital = arr[2].strip()\n",
    "    lng = float(arr[3].replace(',', '.').strip())\n",
    "    lat = float(arr[4].replace(',', '.').strip())\n",
    "    return (capital,(lng,lat))"
   ]
  },
  {
   "cell_type": "code",
   "execution_count": 26,
   "metadata": {
    "pycharm": {
     "is_executing": false,
     "name": "#%%\n"
    }
   },
   "outputs": [
    {
     "name": "stdout",
     "output_type": "stream",
     "text": [
      "[('Afghanistan', 'Kabul', 34.53, 69.17), ('Albania', 'Tirana', 41.33, 19.82), ('Algeria', 'Algiers', 36.75, 3.04), ('American Samoa', 'Pago Pago', -14.28, -170.7), ('Andorra', 'Andorra la Vella', 42.51, 1.52), ('Angola', 'Luanda', -8.84, 13.23), ('Anguilla', 'The Valley', 18.22, -63.06), ('Antigua and Barbuda', \"St. John's\", 17.12, -61.85), ('Argentina', 'Buenos Aires', -34.61, -58.38), ('Armenia', 'Yerevan', 40.18, 44.51)]\n"
     ]
    }
   ],
   "source": [
    "new_capitals_rdd = capitals_rdd.map(lambda line: split_capitals_to_tuple(line))\n",
    "print(new_capitals_rdd.take(10))"
   ]
  },
  {
   "cell_type": "markdown",
   "metadata": {},
   "source": [
    "## Testing to find a capital and it's location"
   ]
  },
  {
   "cell_type": "code",
   "execution_count": 27,
   "metadata": {
    "pycharm": {
     "is_executing": false,
     "name": "#%%\n"
    }
   },
   "outputs": [
    {
     "name": "stdout",
     "output_type": "stream",
     "text": [
      "Ankara\n"
     ]
    }
   ],
   "source": [
    "g_city = new_capitals_rdd.filter(lambda country: 'Turkey' in country)\n",
    "filtered = g_city.collect()\n",
    "print(filtered[0][1])"
   ]
  },
  {
   "cell_type": "code",
   "execution_count": 28,
   "metadata": {
    "pycharm": {
     "is_executing": false,
     "name": "#%%\n"
    }
   },
   "outputs": [],
   "source": [
    "def city_location(city, pipeline):\n",
    "    g_city = pipeline.filter(lambda country: city in country)\n",
    "    filtered = g_city.collect()\n",
    "    lng = filtered[0][2]\n",
    "    lat = filtered[0][3]\n",
    "    return (lng, lat)"
   ]
  },
  {
   "cell_type": "code",
   "execution_count": 29,
   "metadata": {
    "pycharm": {
     "is_executing": false,
     "name": "#%%\n"
    }
   },
   "outputs": [
    {
     "name": "stdout",
     "output_type": "stream",
     "text": [
      "(39.92, 32.85)\n",
      "(48.85, 2.35)\n"
     ]
    }
   ],
   "source": [
    "loc_ankara = city_location('Ankara', new_capitals_rdd)\n",
    "loc_paris = city_location('Paris', new_capitals_rdd)\n",
    "print(loc_ankara)\n",
    "print(loc_paris)"
   ]
  },
  {
   "cell_type": "markdown",
   "metadata": {},
   "source": [
    "# Distance Calculator Function"
   ]
  },
  {
   "cell_type": "code",
   "execution_count": 30,
   "metadata": {
    "pycharm": {
     "is_executing": false,
     "name": "#%%\n"
    }
   },
   "outputs": [],
   "source": [
    "def cal_dist(loc_1, loc_2):\n",
    "    R = 6373.0\n",
    "\n",
    "    lat1 = radians(loc_1[0])\n",
    "    lon1 = radians(loc_1[1])\n",
    "    lat2 = radians(loc_2[0])\n",
    "    lon2 = radians(loc_2[1])\n",
    "    \n",
    "    dlon = lon2 - lon1\n",
    "    dlat = lat2 - lat1\n",
    "    a = sin(dlat / 2)**2 + cos(lat1) * cos(lat2) * sin(dlon / 2)**2\n",
    "    c = 2 * atan2(sqrt(a), sqrt(1 - a))\n",
    "    distance = R * c\n",
    "    return distance"
   ]
  },
  {
   "cell_type": "code",
   "execution_count": 31,
   "metadata": {
    "pycharm": {
     "is_executing": false,
     "name": "#%%\n"
    }
   },
   "outputs": [
    {
     "data": {
      "text/plain": [
       "2603.13"
      ]
     },
     "execution_count": 31,
     "metadata": {},
     "output_type": "execute_result"
    }
   ],
   "source": [
    "round(geodesic(loc_ankara, loc_paris).km, 2) "
   ]
  },
  {
   "cell_type": "code",
   "execution_count": 32,
   "metadata": {
    "pycharm": {
     "is_executing": false,
     "name": "#%%\n"
    }
   },
   "outputs": [
    {
     "data": {
      "text/plain": [
       "2598.09"
      ]
     },
     "execution_count": 32,
     "metadata": {},
     "output_type": "execute_result"
    }
   ],
   "source": [
    "round(cal_dist(loc_ankara, loc_paris),2)"
   ]
  },
  {
   "cell_type": "markdown",
   "metadata": {},
   "source": [
    "# Making a Cartesian RDD"
   ]
  },
  {
   "cell_type": "code",
   "execution_count": 33,
   "metadata": {
    "pycharm": {
     "is_executing": false,
     "name": "#%%\n"
    }
   },
   "outputs": [
    {
     "name": "stdout",
     "output_type": "stream",
     "text": [
      "[('Kabul', (34.53, 69.17)), ('Tirana', (41.33, 19.82)), ('Algiers', (36.75, 3.04))]\n",
      "[('Kabul', (34.53, 69.17)), ('Tirana', (41.33, 19.82)), ('Algiers', (36.75, 3.04))]\n"
     ]
    }
   ],
   "source": [
    "capital_loc_rdd_1 = capitals_rdd.map(lambda line: split_capitals_to_tuple_nc(line))\n",
    "print(capital_loc_rdd_1.take(3))\n",
    "capital_loc_rdd_2 = capitals_rdd.map(lambda line: split_capitals_to_tuple_nc(line))\n",
    "print(capital_loc_rdd_2.take(3))"
   ]
  },
  {
   "cell_type": "code",
   "execution_count": 34,
   "metadata": {
    "pycharm": {
     "is_executing": false,
     "name": "#%%\n"
    }
   },
   "outputs": [
    {
     "name": "stdout",
     "output_type": "stream",
     "text": [
      "[(('Kabul', (34.53, 69.17)), ('Kabul', (34.53, 69.17))), (('Kabul', (34.53, 69.17)), ('Tirana', (41.33, 19.82))), (('Kabul', (34.53, 69.17)), ('Algiers', (36.75, 3.04)))]\n"
     ]
    }
   ],
   "source": [
    "print(capital_loc_rdd_1.cartesian(capital_loc_rdd_2).take(3))"
   ]
  },
  {
   "cell_type": "markdown",
   "metadata": {},
   "source": [
    "## Calculating Every Distance of Each Capital"
   ]
  },
  {
   "cell_type": "code",
   "execution_count": 35,
   "metadata": {
    "pycharm": {
     "is_executing": false,
     "name": "#%%\n"
    }
   },
   "outputs": [
    {
     "data": {
      "text/plain": [
       "[('Kabul-Kabul', 0),\n",
       " ('Kabul-Tirana', 4336),\n",
       " ('Kabul-Algiers', 5860),\n",
       " ('Kabul-Pago Pago', 13650),\n",
       " ('Kabul-Andorra la Vella', 5798)]"
      ]
     },
     "execution_count": 35,
     "metadata": {},
     "output_type": "execute_result"
    }
   ],
   "source": [
    "distance_rdd = capital_loc_rdd_1.cartesian(capital_loc_rdd_2).map(lambda x: (x[0][0] + '-' + x[1][0],\n",
    "                                                                            int(round(cal_dist(x[0][1], x[1][1])))))\n",
    "distance_rdd.take(5)"
   ]
  },
  {
   "cell_type": "markdown",
   "metadata": {},
   "source": [
    "### Sorting"
   ]
  },
  {
   "cell_type": "code",
   "execution_count": 36,
   "metadata": {
    "pycharm": {
     "is_executing": false,
     "name": "#%%\n"
    }
   },
   "outputs": [
    {
     "data": {
      "text/plain": [
       "[('Kabul-Tirana', 4336),\n",
       " ('Kabul-Algiers', 5860),\n",
       " ('Kabul-Pago Pago', 13650),\n",
       " ('Kabul-Andorra la Vella', 5798),\n",
       " ('Kabul-Luanda', 7603)]"
      ]
     },
     "execution_count": 36,
     "metadata": {},
     "output_type": "execute_result"
    }
   ],
   "source": [
    "distance_rdd = distance_rdd.filter(lambda x: x[1] > 0)\n",
    "distance_rdd.take(5)"
   ]
  },
  {
   "cell_type": "markdown",
   "metadata": {},
   "source": [
    "# Closest Capital Cities and The Distance Between Them.\t"
   ]
  },
  {
   "cell_type": "code",
   "execution_count": 37,
   "metadata": {
    "pycharm": {
     "is_executing": false,
     "name": "#%%\n"
    }
   },
   "outputs": [
    {
     "data": {
      "text/plain": [
       "[('Rome-Vatican', 3),\n",
       " ('Vatican-Rome', 3),\n",
       " ('Kinshasa-Brazzaville', 6),\n",
       " ('Brazzaville-Kinshasa', 6),\n",
       " ('The Valley-Marigot', 17)]"
      ]
     },
     "execution_count": 37,
     "metadata": {},
     "output_type": "execute_result"
    }
   ],
   "source": [
    "distance_rdd = distance_rdd.sortBy(lambda x:x[1])\n",
    "distance_rdd.take(5)"
   ]
  },
  {
   "cell_type": "markdown",
   "metadata": {},
   "source": [
    "# Removing The Double Calculations"
   ]
  },
  {
   "cell_type": "code",
   "execution_count": 38,
   "metadata": {},
   "outputs": [
    {
     "data": {
      "text/plain": [
       "[(0, ('Rome-Vatican', 3)), (1, ('Vatican-Rome', 3))]"
      ]
     },
     "execution_count": 38,
     "metadata": {},
     "output_type": "execute_result"
    }
   ],
   "source": [
    "distance_rdd2 = distance_rdd.zipWithIndex().map(lambda x : (x[1],x[0]))\n",
    "distance_rdd2.take(2)\n"
   ]
  },
  {
   "cell_type": "code",
   "execution_count": 39,
   "metadata": {},
   "outputs": [
    {
     "data": {
      "text/plain": [
       "[(1, ('Rome-Vatican', 3)),\n",
       " (2, ('Vatican-Rome', 3)),\n",
       " (3, ('Kinshasa-Brazzaville', 6))]"
      ]
     },
     "execution_count": 39,
     "metadata": {},
     "output_type": "execute_result"
    }
   ],
   "source": [
    "distance_rdd3 = distance_rdd2.map(lambda x: (x[0]+1,x[1]))\n",
    "distance_rdd3.take(3)\n"
   ]
  },
  {
   "cell_type": "code",
   "execution_count": 40,
   "metadata": {},
   "outputs": [
    {
     "data": {
      "text/plain": [
       "[(2, ('Vatican-Rome', 3)),\n",
       " (4, ('Brazzaville-Kinshasa', 6)),\n",
       " (6, ('Marigot-The Valley', 17)),\n",
       " (8, ('Marigot-Gustavia', 31))]"
      ]
     },
     "execution_count": 40,
     "metadata": {},
     "output_type": "execute_result"
    }
   ],
   "source": [
    "distance_rdd4 = distance_rdd3.filter(lambda x: x[0]%2 ==0)\n",
    "distance_rdd4.take(4)\n"
   ]
  },
  {
   "cell_type": "code",
   "execution_count": 41,
   "metadata": {},
   "outputs": [
    {
     "data": {
      "text/plain": [
       "[('Vatican-Rome', 3),\n",
       " ('Brazzaville-Kinshasa', 6),\n",
       " ('Marigot-The Valley', 17),\n",
       " ('Marigot-Gustavia', 31),\n",
       " ('Charlotte Amalie-Road Town', 34)]"
      ]
     },
     "execution_count": 41,
     "metadata": {},
     "output_type": "execute_result"
    }
   ],
   "source": [
    "distance_rdd5 = distance_rdd4.map(lambda x: x[1])\n",
    "distance_rdd5.take(5)"
   ]
  },
  {
   "cell_type": "code",
   "execution_count": null,
   "metadata": {},
   "outputs": [],
   "source": []
  }
 ],
 "metadata": {
  "kernelspec": {
   "display_name": "Python 3",
   "language": "python",
   "name": "python3"
  },
  "language_info": {
   "codemirror_mode": {
    "name": "ipython",
    "version": 3
   },
   "file_extension": ".py",
   "mimetype": "text/x-python",
   "name": "python",
   "nbconvert_exporter": "python",
   "pygments_lexer": "ipython3",
   "version": "3.7.3"
  },
  "pycharm": {
   "stem_cell": {
    "cell_type": "raw",
    "metadata": {
     "collapsed": false
    },
    "source": []
   }
  }
 },
 "nbformat": 4,
 "nbformat_minor": 1
}
