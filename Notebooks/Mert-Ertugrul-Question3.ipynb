{
 "cells": [
  {
   "cell_type": "code",
   "execution_count": 58,
   "metadata": {
    "pycharm": {
     "is_executing": false
    }
   },
   "outputs": [],
   "source": [
    "from pyspark import SparkContext\n",
    "import datetime\n",
    "from datetime import timedelta\n",
    "from math import sin, cos, sqrt, atan2, radians"
   ]
  },
  {
   "cell_type": "code",
   "execution_count": 59,
   "metadata": {
    "pycharm": {
     "is_executing": false,
     "name": "#%%\n"
    }
   },
   "outputs": [],
   "source": [
    "sc = SparkContext.getOrCreate()"
   ]
  },
  {
   "cell_type": "markdown",
   "metadata": {},
   "source": [
    "# Insert The Data"
   ]
  },
  {
   "cell_type": "code",
   "execution_count": 60,
   "metadata": {
    "pycharm": {
     "is_executing": false,
     "name": "#%%\n"
    }
   },
   "outputs": [
    {
     "data": {
      "text/plain": [
       "['No    \\tDeprem Kodu\\tOlus tarihi\\tOlus zamani\\tEnlem\\tBoylam\\tDer(km)\\txM\\tMD\\tML\\tMw\\tMs\\tMb\\tTip\\tYer',\n",
       " '000001\\t20190430145223\\t2019.04.30\\t14:52:23.77\\t39.0710\\t26.4953\\t010.3\\t3.6\\t0.0\\t3.6\\t3.4\\t0.0\\t0.0\\tKe\\tMIDILLI ADASI (EGE DENIZI)',\n",
       " '000002\\t20190429183950\\t2019.04.29\\t18:39:50.17\\t39.3883\\t26.3330\\t010.2\\t3.9\\t0.0\\t3.9\\t3.6\\t0.0\\t0.0\\tKe\\tEDREMIT KORFEZI (EGE DENIZI)',\n",
       " '000003\\t20190429180243\\t2019.04.29\\t18:02:43.27\\t39.3995\\t26.3192\\t011.6\\t4.5\\t0.0\\t4.5\\t4.3\\t0.0\\t0.0\\tKe\\tEDREMIT KORFEZI (EGE DENIZI)',\n",
       " '000004\\t20190429093510\\t2019.04.29\\t09:35:10.15\\t35.7588\\t27.1600\\t005.8\\t3.8\\t0.0\\t3.6\\t3.8\\t0.0\\t0.0\\tKe\\tAKDENIZ']"
      ]
     },
     "execution_count": 60,
     "metadata": {},
     "output_type": "execute_result"
    }
   ],
   "source": [
    "dep_rdd = sc.textFile('datasets/DepremVerileri-2019-Nisan-1.txt')\n",
    "dep_rdd.take(5)"
   ]
  },
  {
   "cell_type": "markdown",
   "metadata": {},
   "source": [
    "## Removing the Header"
   ]
  },
  {
   "cell_type": "code",
   "execution_count": 61,
   "metadata": {
    "pycharm": {
     "is_executing": false,
     "name": "#%%\n"
    }
   },
   "outputs": [
    {
     "data": {
      "text/plain": [
       "['000001\\t20190430145223\\t2019.04.30\\t14:52:23.77\\t39.0710\\t26.4953\\t010.3\\t3.6\\t0.0\\t3.6\\t3.4\\t0.0\\t0.0\\tKe\\tMIDILLI ADASI (EGE DENIZI)']"
      ]
     },
     "execution_count": 61,
     "metadata": {},
     "output_type": "execute_result"
    }
   ],
   "source": [
    "dep_rdd = dep_rdd.filter(lambda line : \"Deprem Kodu\" not in line)\n",
    "dep_rdd.take(1)"
   ]
  },
  {
   "cell_type": "markdown",
   "metadata": {},
   "source": [
    "# Parsing the Data"
   ]
  },
  {
   "cell_type": "code",
   "execution_count": 62,
   "metadata": {
    "pycharm": {
     "is_executing": false,
     "name": "#%%\n"
    }
   },
   "outputs": [],
   "source": [
    "def splitAndSelect(line):\n",
    "    arr = line.split(\"\\t\")\n",
    "    #date_time_str = arr[2] + ' ' + arr[3]\n",
    "    #date_time_obj = datetime.datetime.strptime(date_time_str, '%Y.%m.%d %H:%M:%S.%f')\n",
    "    tarih = arr[2]\n",
    "    zaman = arr[3]\n",
    "    lng = arr[4]\n",
    "    lat = arr[5]\n",
    "    buyukluk = float(arr[7])\n",
    "    yer = arr[14]\n",
    "    return (yer, buyukluk, lng, lat, tarih, zaman)"
   ]
  },
  {
   "cell_type": "code",
   "execution_count": 63,
   "metadata": {
    "pycharm": {
     "is_executing": false,
     "name": "#%%\n"
    }
   },
   "outputs": [
    {
     "data": {
      "text/plain": [
       "[('MIDILLI ADASI (EGE DENIZI)',\n",
       "  3.6,\n",
       "  '39.0710',\n",
       "  '26.4953',\n",
       "  '2019.04.30',\n",
       "  '14:52:23.77'),\n",
       " ('EDREMIT KORFEZI (EGE DENIZI)',\n",
       "  3.9,\n",
       "  '39.3883',\n",
       "  '26.3330',\n",
       "  '2019.04.29',\n",
       "  '18:39:50.17'),\n",
       " ('EDREMIT KORFEZI (EGE DENIZI)',\n",
       "  4.5,\n",
       "  '39.3995',\n",
       "  '26.3192',\n",
       "  '2019.04.29',\n",
       "  '18:02:43.27'),\n",
       " ('AKDENIZ', 3.8, '35.7588', '27.1600', '2019.04.29', '09:35:10.15'),\n",
       " ('AKDENIZ', 5.0, '35.3045', '27.7108', '2019.04.29', '04:43:15.42')]"
      ]
     },
     "execution_count": 63,
     "metadata": {},
     "output_type": "execute_result"
    }
   ],
   "source": [
    "dep_rdd = dep_rdd.map(lambda line : splitAndSelect(line))\n",
    "dep_rdd.take(5)"
   ]
  },
  {
   "cell_type": "markdown",
   "metadata": {},
   "source": [
    "## Sorting by Earthquake Intensity"
   ]
  },
  {
   "cell_type": "code",
   "execution_count": 64,
   "metadata": {
    "pycharm": {
     "is_executing": false,
     "name": "#%%\n"
    }
   },
   "outputs": [
    {
     "data": {
      "text/plain": [
       "[('KURUTILEK- (ERZINCAN) [North East  3.0 km]',\n",
       "  7.9,\n",
       "  '39.8000',\n",
       "  '39.5100',\n",
       "  '1939.12.26',\n",
       "  '23:57:20.90'),\n",
       " ('ONIKI ADALAR (AKDENIZ)',\n",
       "  7.7,\n",
       "  '36.5400',\n",
       "  '27.3300',\n",
       "  '1926.06.26',\n",
       "  '19:46:38.80'),\n",
       " ('TÜRKIYE-IRAN SINIR BÖLGESI',\n",
       "  7.6,\n",
       "  '37.9800',\n",
       "  '44.4800',\n",
       "  '1930.05.06',\n",
       "  '22:34:31.70'),\n",
       " ('YENIYAKA-CALDIRAN (VAN) [South East  1.9 km]',\n",
       "  7.5,\n",
       "  '39.0500',\n",
       "  '44.0400',\n",
       "  '1976.11.24',\n",
       "  '12:22:16.00'),\n",
       " ('BASISKELE (KOCAELI) [North East  2.0 km]',\n",
       "  7.4,\n",
       "  '40.7600',\n",
       "  '29.9700',\n",
       "  '1999.08.17',\n",
       "  '00:01:37.60')]"
      ]
     },
     "execution_count": 64,
     "metadata": {},
     "output_type": "execute_result"
    }
   ],
   "source": [
    "dep_rdd = dep_rdd.sortBy(lambda x:x[1], ascending=False)\n",
    "dep_rdd.take(5)"
   ]
  },
  {
   "cell_type": "markdown",
   "metadata": {},
   "source": [
    "## Turning Dates to Tuple"
   ]
  },
  {
   "cell_type": "code",
   "execution_count": 65,
   "metadata": {
    "pycharm": {
     "is_executing": false,
     "name": "#%%\n"
    }
   },
   "outputs": [],
   "source": [
    "def date_maker(arr):\n",
    "    date = arr[4].split('.')\n",
    "    time = arr[5].split(':')\n",
    "    \n",
    "    year = int(date[0])\n",
    "    mounth = int(date[1])\n",
    "    day = int(date[2])\n",
    "    \n",
    "    hour = int(time[0])\n",
    "    minu = int(time[1])\n",
    "    sec = int(round(float(time[2])))\n",
    "    \n",
    "    if mounth>12:\n",
    "        mounth=12\n",
    "    elif mounth<1:\n",
    "        mounth =1\n",
    "    \n",
    "    if   day>31:\n",
    "         day=31\n",
    "    elif day<1:\n",
    "         day =1\n",
    "            \n",
    "    if   hour>23:\n",
    "         hour=23\n",
    "    elif hour<0:\n",
    "         hour =0\n",
    "    \n",
    "    if   minu>59:\n",
    "         minu=59\n",
    "    elif minu<0:\n",
    "         minu =0\n",
    "            \n",
    "    if   sec>59:\n",
    "         sec=59\n",
    "    elif sec<0:\n",
    "         sec=0\n",
    "    \n",
    "    return (arr[0], arr[1], arr[2], arr[3], (year, mounth, day), (hour, minu, sec))"
   ]
  },
  {
   "cell_type": "code",
   "execution_count": 66,
   "metadata": {
    "pycharm": {
     "is_executing": false,
     "name": "#%%\n"
    }
   },
   "outputs": [
    {
     "data": {
      "text/plain": [
       "[('KURUTILEK- (ERZINCAN) [North East  3.0 km]',\n",
       "  7.9,\n",
       "  '39.8000',\n",
       "  '39.5100',\n",
       "  (1939, 12, 26),\n",
       "  (23, 57, 21)),\n",
       " ('ONIKI ADALAR (AKDENIZ)',\n",
       "  7.7,\n",
       "  '36.5400',\n",
       "  '27.3300',\n",
       "  (1926, 6, 26),\n",
       "  (19, 46, 39)),\n",
       " ('TÜRKIYE-IRAN SINIR BÖLGESI',\n",
       "  7.6,\n",
       "  '37.9800',\n",
       "  '44.4800',\n",
       "  (1930, 5, 6),\n",
       "  (22, 34, 32)),\n",
       " ('YENIYAKA-CALDIRAN (VAN) [South East  1.9 km]',\n",
       "  7.5,\n",
       "  '39.0500',\n",
       "  '44.0400',\n",
       "  (1976, 11, 24),\n",
       "  (12, 22, 16)),\n",
       " ('BASISKELE (KOCAELI) [North East  2.0 km]',\n",
       "  7.4,\n",
       "  '40.7600',\n",
       "  '29.9700',\n",
       "  (1999, 8, 17),\n",
       "  (0, 1, 38))]"
      ]
     },
     "execution_count": 66,
     "metadata": {},
     "output_type": "execute_result"
    }
   ],
   "source": [
    "dep_rdd_dt_1 = dep_rdd.map(lambda x: date_maker(x))\n",
    "dep_rdd_dt_1.take(5)"
   ]
  },
  {
   "cell_type": "markdown",
   "metadata": {},
   "source": [
    "## Filter Earthquakes Between 1990 and 2018"
   ]
  },
  {
   "cell_type": "code",
   "execution_count": 67,
   "metadata": {},
   "outputs": [],
   "source": [
    "def between_90_18(deprem):\n",
    "    y1 = str(deprem[4][0])\n",
    "    m1 = str(deprem[4][1])\n",
    "    d1 = str(deprem[4][2])\n",
    "    h1 = str(deprem[5][0])\n",
    "    mi1 =str(deprem[5][1])\n",
    "    s1 = str(deprem[5][2])\n",
    "    \n",
    "    datetime_str_cur = y1 + '-' + m1  + '-' + d1 + ' ' + h1 + ':' + mi1 + ':' + s1\n",
    "    datetime_obj_cur = datetime.datetime.strptime(datetime_str_cur, '%Y-%m-%d %H:%M:%S')\n",
    "    \n",
    "    datetime_str_90 = '1990-1-1 00:00:00'\n",
    "    datetime_obj_90 =datetime.datetime.strptime(datetime_str_90, '%Y-%m-%d %H:%M:%S')\n",
    "    \n",
    "    datetime_str_18 = '2018-12-31 23:59:59'\n",
    "    datetime_obj_18 =datetime.datetime.strptime(datetime_str_18, '%Y-%m-%d %H:%M:%S')\n",
    "    \n",
    "    if datetime_obj_cur >= datetime_obj_90 and datetime_obj_cur <= datetime_obj_18:\n",
    "        return True\n",
    "    else:\n",
    "        return False\n",
    "    "
   ]
  },
  {
   "cell_type": "markdown",
   "metadata": {},
   "source": [
    "### Test the between_90_18 function"
   ]
  },
  {
   "cell_type": "code",
   "execution_count": 68,
   "metadata": {},
   "outputs": [
    {
     "data": {
      "text/plain": [
       "False"
      ]
     },
     "execution_count": 68,
     "metadata": {},
     "output_type": "execute_result"
    }
   ],
   "source": [
    "between_90_18(('BASISKELE (KOCAELI) [North East  2.0 km]',\n",
    "  7.4,\n",
    "  '40.7600',\n",
    "  '29.9700',\n",
    "  (1989, 8, 17),\n",
    "  (0, 1, 38)))"
   ]
  },
  {
   "cell_type": "code",
   "execution_count": 69,
   "metadata": {},
   "outputs": [
    {
     "data": {
      "text/plain": [
       "[('BASISKELE (KOCAELI) [North East  2.0 km]',\n",
       "  7.4,\n",
       "  '40.7600',\n",
       "  '29.9700',\n",
       "  (1999, 8, 17),\n",
       "  (0, 1, 38)),\n",
       " ('YEMLICE- (VAN) [North West  1.5 km]',\n",
       "  7.2,\n",
       "  '38.7212',\n",
       "  '43.4110',\n",
       "  (2011, 10, 23),\n",
       "  (10, 41, 21)),\n",
       " ('UGUR- (DUZCE) [North East  0.3 km]',\n",
       "  7.2,\n",
       "  '40.7400',\n",
       "  '31.2100',\n",
       "  (1999, 11, 12),\n",
       "  (16, 57, 21)),\n",
       " ('GUNEBAKAN- (ERZINCAN) [South West  1.7 km]',\n",
       "  6.8,\n",
       "  '39.7200',\n",
       "  '39.6300',\n",
       "  (1992, 3, 13),\n",
       "  (17, 18, 39)),\n",
       " ('GOKOVA KORFEZI (AKDENIZ)',\n",
       "  6.6,\n",
       "  '36.9693',\n",
       "  '27.4057',\n",
       "  (2017, 7, 20),\n",
       "  (22, 31, 10))]"
      ]
     },
     "execution_count": 69,
     "metadata": {},
     "output_type": "execute_result"
    }
   ],
   "source": [
    "dep_rdd_dt_1 = dep_rdd_dt_1.filter(lambda x : between_90_18(x) == True)\n",
    "dep_rdd_dt_1.take(5)"
   ]
  },
  {
   "cell_type": "markdown",
   "metadata": {},
   "source": [
    "## Geting the List of Top10 Earthquakes"
   ]
  },
  {
   "cell_type": "code",
   "execution_count": 70,
   "metadata": {},
   "outputs": [
    {
     "data": {
      "text/plain": [
       "[('BASISKELE (KOCAELI) [North East  2.0 km]',\n",
       "  7.4,\n",
       "  '40.7600',\n",
       "  '29.9700',\n",
       "  (1999, 8, 17),\n",
       "  (0, 1, 38)),\n",
       " ('YEMLICE- (VAN) [North West  1.5 km]',\n",
       "  7.2,\n",
       "  '38.7212',\n",
       "  '43.4110',\n",
       "  (2011, 10, 23),\n",
       "  (10, 41, 21)),\n",
       " ('UGUR- (DUZCE) [North East  0.3 km]',\n",
       "  7.2,\n",
       "  '40.7400',\n",
       "  '31.2100',\n",
       "  (1999, 11, 12),\n",
       "  (16, 57, 21)),\n",
       " ('GUNEBAKAN- (ERZINCAN) [South West  1.7 km]',\n",
       "  6.8,\n",
       "  '39.7200',\n",
       "  '39.6300',\n",
       "  (1992, 3, 13),\n",
       "  (17, 18, 39)),\n",
       " ('GOKOVA KORFEZI (AKDENIZ)',\n",
       "  6.6,\n",
       "  '36.9693',\n",
       "  '27.4057',\n",
       "  (2017, 7, 20),\n",
       "  (22, 31, 10)),\n",
       " ('AKDENIZ', 6.4, '35.7948', '27.8798', (2008, 7, 15), (3, 26, 34)),\n",
       " ('KURTULUS- (BINGOL) [South West  4.3 km]',\n",
       "  6.4,\n",
       "  '39.0100',\n",
       "  '40.4600',\n",
       "  (2003, 5, 1),\n",
       "  (0, 27, 4)),\n",
       " ('EGE DENIZI', 6.3, '38.8468', '26.3252', (2017, 6, 12), (12, 28, 38)),\n",
       " ('HASANBEYLI-SARICAM (ADANA) [South 10.1 km]',\n",
       "  6.3,\n",
       "  '36.9600',\n",
       "  '35.5200',\n",
       "  (1998, 6, 27),\n",
       "  (13, 55, 52)),\n",
       " ('AKDENIZ', 6.2, '35.5138', '26.5798', (2011, 4, 1), (13, 29, 9))]"
      ]
     },
     "execution_count": 70,
     "metadata": {},
     "output_type": "execute_result"
    }
   ],
   "source": [
    "top10 = dep_rdd_dt_1.take(10)\n",
    "top10"
   ]
  },
  {
   "cell_type": "markdown",
   "metadata": {
    "pycharm": {
     "name": "#%%\n"
    }
   },
   "source": [
    "# Making Cartesian RDD\n"
   ]
  },
  {
   "cell_type": "code",
   "execution_count": 71,
   "metadata": {},
   "outputs": [
    {
     "data": {
      "text/plain": [
       "[(('BASISKELE (KOCAELI) [North East  2.0 km]',\n",
       "   7.4,\n",
       "   '40.7600',\n",
       "   '29.9700',\n",
       "   (1999, 8, 17),\n",
       "   (0, 1, 38)),\n",
       "  ('YEMLICE- (VAN) [North West  1.5 km]',\n",
       "   7.2,\n",
       "   '38.7212',\n",
       "   '43.4110',\n",
       "   (2011, 10, 23),\n",
       "   (10, 41, 21))),\n",
       " (('BASISKELE (KOCAELI) [North East  2.0 km]',\n",
       "   7.4,\n",
       "   '40.7600',\n",
       "   '29.9700',\n",
       "   (1999, 8, 17),\n",
       "   (0, 1, 38)),\n",
       "  ('UGUR- (DUZCE) [North East  0.3 km]',\n",
       "   7.2,\n",
       "   '40.7400',\n",
       "   '31.2100',\n",
       "   (1999, 11, 12),\n",
       "   (16, 57, 21))),\n",
       " (('BASISKELE (KOCAELI) [North East  2.0 km]',\n",
       "   7.4,\n",
       "   '40.7600',\n",
       "   '29.9700',\n",
       "   (1999, 8, 17),\n",
       "   (0, 1, 38)),\n",
       "  ('GUNEBAKAN- (ERZINCAN) [South West  1.7 km]',\n",
       "   6.8,\n",
       "   '39.7200',\n",
       "   '39.6300',\n",
       "   (1992, 3, 13),\n",
       "   (17, 18, 39))),\n",
       " (('BASISKELE (KOCAELI) [North East  2.0 km]',\n",
       "   7.4,\n",
       "   '40.7600',\n",
       "   '29.9700',\n",
       "   (1999, 8, 17),\n",
       "   (0, 1, 38)),\n",
       "  ('GOKOVA KORFEZI (AKDENIZ)',\n",
       "   6.6,\n",
       "   '36.9693',\n",
       "   '27.4057',\n",
       "   (2017, 7, 20),\n",
       "   (22, 31, 10))),\n",
       " (('BASISKELE (KOCAELI) [North East  2.0 km]',\n",
       "   7.4,\n",
       "   '40.7600',\n",
       "   '29.9700',\n",
       "   (1999, 8, 17),\n",
       "   (0, 1, 38)),\n",
       "  ('AKDENIZ', 6.4, '35.7948', '27.8798', (2008, 7, 15), (3, 26, 34)))]"
      ]
     },
     "execution_count": 71,
     "metadata": {},
     "output_type": "execute_result"
    }
   ],
   "source": [
    "dep_rdd_dt_2 = dep_rdd_dt_1\n",
    "dep_car_rdd = dep_rdd_dt_1.cartesian(dep_rdd_dt_2)\n",
    "dep_car_rdd2 = dep_car_rdd.filter(lambda x: x[0][0] != x[1][0] and x[0][1] != x[1][1] and x[0][2] != x[1][2] \\\n",
    "                   and x[0][3] != x[1][3] and x[0][4] != x[1][4] and x[0][5] != x[1][5])\n",
    "dep_car_rdd2.take(5)"
   ]
  },
  {
   "cell_type": "markdown",
   "metadata": {},
   "source": [
    "## Distance Calculater"
   ]
  },
  {
   "cell_type": "code",
   "execution_count": 72,
   "metadata": {},
   "outputs": [],
   "source": [
    "def cal_dist(loc_1, loc_2):\n",
    "    R = 6373.0\n",
    "\n",
    "    lat1 = radians(float(loc_1[0]))\n",
    "    lon1 = radians(float(loc_1[1]))\n",
    "    lat2 = radians(float(loc_2[0]))\n",
    "    lon2 = radians(float(loc_2[1]))\n",
    "    \n",
    "    dlon = lon2 - lon1\n",
    "    dlat = lat2 - lat1\n",
    "    a = sin(dlat / 2)**2 + cos(lat1) * cos(lat2) * sin(dlon / 2)**2\n",
    "    c = 2 * atan2(sqrt(a), sqrt(1 - a))\n",
    "    distance = R * c\n",
    "    return distance"
   ]
  },
  {
   "cell_type": "markdown",
   "metadata": {},
   "source": [
    "## Date Converter and Calculate Wheather it is Foreshock or\tAftershock"
   ]
  },
  {
   "cell_type": "code",
   "execution_count": 73,
   "metadata": {},
   "outputs": [],
   "source": [
    "def last_24H(dep_date1, dep_date2, loc1=None, loc2=None):\n",
    "    y1 = str(dep_date1[0][0])\n",
    "    m1 = str(dep_date1[0][1])\n",
    "    d1 = str(dep_date1[0][2])\n",
    "    h1 = str(dep_date1[1][0])\n",
    "    mi1 = str(dep_date1[1][1])\n",
    "    s1 = str(dep_date1[1][2])\n",
    "    \n",
    "    y2 = str(dep_date2[0][0])\n",
    "    m2 = str(dep_date2[0][1])\n",
    "    d2 = str(dep_date2[0][2])\n",
    "    h2 = str(dep_date2[1][0])\n",
    "    mi2 = str(dep_date2[1][1])\n",
    "    s2 = str(dep_date2[1][2])\n",
    "    \n",
    "    #date_time_str = '2018-06-29 08:15:27.243860'\n",
    "    date_time_str1 = y1 + '-' + m1  + '-' + d1 + ' ' + h1 + ':' + mi1 + ':' + s1\n",
    "    date_time_obj1 = datetime.datetime.strptime(date_time_str1, '%Y-%m-%d %H:%M:%S')\n",
    "    \n",
    "    date_time_str2 = y2 + '-' + m2  + '-' + d2 + ' ' + h2 + ':' + mi2 + ':' + s2\n",
    "    date_time_obj2 = datetime.datetime.strptime(date_time_str2, '%Y-%m-%d %H:%M:%S')\n",
    "    \n",
    "    if loc1 is not None and loc2 is not None:\n",
    "        distance = cal_dist(loc1, loc2)\n",
    "    \n",
    "    \n",
    "    if date_time_obj1 - timedelta(hours=24) <= date_time_obj2 <= date_time_obj1 + timedelta(hours=24):\n",
    "        return True\n",
    "    else:\n",
    "        return False"
   ]
  },
  {
   "cell_type": "markdown",
   "metadata": {},
   "source": [
    "### Testing the Function"
   ]
  },
  {
   "cell_type": "code",
   "execution_count": 74,
   "metadata": {},
   "outputs": [
    {
     "data": {
      "text/plain": [
       "True"
      ]
     },
     "execution_count": 74,
     "metadata": {},
     "output_type": "execute_result"
    }
   ],
   "source": [
    "first = ((1939, 12, 26), (7, 0, 0))\n",
    "sec = ((1939, 12, 26), (23, 58, 0))\n",
    "loc1 = ('40.6000', '27.2000')\n",
    "loc2 = ('40.6000', '27.2100',)\n",
    "last_24H(first, sec, loc1, loc2)"
   ]
  },
  {
   "cell_type": "code",
   "execution_count": 75,
   "metadata": {},
   "outputs": [
    {
     "data": {
      "text/plain": [
       "[(('BASISKELE (KOCAELI) [North East  2.0 km]',\n",
       "   7.4,\n",
       "   '40.7600',\n",
       "   '29.9700',\n",
       "   (1999, 8, 17),\n",
       "   (0, 1, 38)),\n",
       "  ('YEMLICE- (VAN) [North West  1.5 km]',\n",
       "   7.2,\n",
       "   '38.7212',\n",
       "   '43.4110',\n",
       "   (2011, 10, 23),\n",
       "   (10, 41, 21)))]"
      ]
     },
     "execution_count": 75,
     "metadata": {},
     "output_type": "execute_result"
    }
   ],
   "source": [
    "dep_car_rdd2.take(1)"
   ]
  },
  {
   "cell_type": "code",
   "execution_count": 76,
   "metadata": {},
   "outputs": [
    {
     "name": "stdout",
     "output_type": "stream",
     "text": [
      "False\n",
      "((1939, 12, 26), (23, 57, 21))\n",
      "((1939, 11, 21), (8, 49, 3))\n",
      "('39.8000', '39.5100')\n",
      "('39.8200', '39.7100')\n"
     ]
    }
   ],
   "source": [
    "x = (('KURUTILEK- (ERZINCAN) [North East  3.0 km]',\n",
    "   7.9,\n",
    "   '39.8000',\n",
    "   '39.5100',\n",
    "   (1939, 12, 26),\n",
    "   (23, 57, 21)),\n",
    "  ('TURNACAYIRI-CAYIRLI (ERZINCAN) [South West  4.5 km]',\n",
    "   5.9,\n",
    "   '39.8200',\n",
    "   '39.7100',\n",
    "   (1939, 11, 21),\n",
    "   (8, 49, 3)))\n",
    "\n",
    "print(last_24H((x[0][4],x[0][5]), (x[1][4],x[1][5]), (x[0][2],x[0][3]), (x[1][2],x[1][3])))\n",
    "print((x[0][4],x[0][5]))\n",
    "print((x[1][4],x[1][5]))\n",
    "print((x[0][2],x[0][3]))\n",
    "print((x[1][2],x[1][3]))"
   ]
  },
  {
   "cell_type": "markdown",
   "metadata": {},
   "source": [
    "## Filtering Cartesians that's distance less than 20 km"
   ]
  },
  {
   "cell_type": "code",
   "execution_count": 77,
   "metadata": {},
   "outputs": [
    {
     "data": {
      "text/plain": [
       "[(('BASISKELE (KOCAELI) [North East  2.0 km]',\n",
       "   7.4,\n",
       "   '40.7600',\n",
       "   '29.9700',\n",
       "   (1999, 8, 17),\n",
       "   (0, 1, 38)),\n",
       "  ('BAYRAKTAR-IZMIT (KOCAELI) [South East  2.0 km]',\n",
       "   5.8,\n",
       "   '40.7700',\n",
       "   '30.1000',\n",
       "   (1999, 9, 13),\n",
       "   (11, 55, 29)))]"
      ]
     },
     "execution_count": 77,
     "metadata": {},
     "output_type": "execute_result"
    }
   ],
   "source": [
    "t_rdd = dep_car_rdd2.filter(lambda x: cal_dist((x[0][2],x[0][3]), (x[1][2],x[1][3]))<=20)\n",
    "t_rdd.take(1)"
   ]
  },
  {
   "cell_type": "markdown",
   "metadata": {},
   "source": [
    "## Filtering Aftershocks and Foreshocks"
   ]
  },
  {
   "cell_type": "code",
   "execution_count": 78,
   "metadata": {},
   "outputs": [
    {
     "data": {
      "text/plain": [
       "[(('YEMLICE- (VAN) [North West  1.5 km]',\n",
       "   7.2,\n",
       "   '38.7212',\n",
       "   '43.4110',\n",
       "   (2011, 10, 23),\n",
       "   (10, 41, 21)),\n",
       "  ('KOZLUCA- (VAN) [North West  1.8 km]',\n",
       "   4.9,\n",
       "   '38.6693',\n",
       "   '43.5113',\n",
       "   (2011, 10, 24),\n",
       "   (8, 49, 21))),\n",
       " (('YEMLICE- (VAN) [North West  1.5 km]',\n",
       "   7.2,\n",
       "   '38.7212',\n",
       "   '43.4110',\n",
       "   (2011, 10, 23),\n",
       "   (10, 41, 21)),\n",
       "  ('BARDAKCI- (VAN) [North East  1.8 km]',\n",
       "   4.8,\n",
       "   '38.5747',\n",
       "   '43.2832',\n",
       "   (2011, 10, 24),\n",
       "   (8, 28, 29))),\n",
       " (('YEMLICE- (VAN) [North West  1.5 km]',\n",
       "   7.2,\n",
       "   '38.7212',\n",
       "   '43.4110',\n",
       "   (2011, 10, 23),\n",
       "   (10, 41, 21)),\n",
       "  ('DIBEKDUZU- (VAN) [North West  1.7 km]',\n",
       "   4.7,\n",
       "   '38.6512',\n",
       "   '43.2258',\n",
       "   (2011, 10, 24),\n",
       "   (4, 43, 1))),\n",
       " (('UGUR- (DUZCE) [North East  0.3 km]',\n",
       "   7.2,\n",
       "   '40.7400',\n",
       "   '31.2100',\n",
       "   (1999, 11, 12),\n",
       "   (16, 57, 21)),\n",
       "  ('BAKACAK-GOLYAKA (DUZCE) [South East  2.4 km]',\n",
       "   4.7,\n",
       "   '40.7200',\n",
       "   '31.0000',\n",
       "   (1999, 11, 13),\n",
       "   (0, 54, 0))),\n",
       " (('YEMLICE- (VAN) [North West  1.5 km]',\n",
       "   7.2,\n",
       "   '38.7212',\n",
       "   '43.4110',\n",
       "   (2011, 10, 23),\n",
       "   (10, 41, 21)),\n",
       "  ('YESILSU- (VAN) [South West  1.5 km]',\n",
       "   4.6,\n",
       "   '38.7765',\n",
       "   '43.2762',\n",
       "   (2011, 10, 24),\n",
       "   (5, 54, 59)))]"
      ]
     },
     "execution_count": 78,
     "metadata": {},
     "output_type": "execute_result"
    }
   ],
   "source": [
    "t_rdd = t_rdd.filter(lambda x: last_24H((x[0][4],x[0][5]), (x[1][4],x[1][5])) == True)\n",
    "t_rdd.take(5)"
   ]
  },
  {
   "cell_type": "markdown",
   "metadata": {},
   "source": [
    "# Geting The Top 10 Earthquake Aftershocks and Foreshocks"
   ]
  },
  {
   "cell_type": "code",
   "execution_count": 79,
   "metadata": {},
   "outputs": [],
   "source": [
    "def top_10 (yer, top_ten):\n",
    "    if yer in top_ten:\n",
    "        return True\n",
    "    else:\n",
    "        return False"
   ]
  },
  {
   "cell_type": "markdown",
   "metadata": {},
   "source": [
    "### Testing the Top_10 Function"
   ]
  },
  {
   "cell_type": "code",
   "execution_count": 80,
   "metadata": {},
   "outputs": [
    {
     "name": "stdout",
     "output_type": "stream",
     "text": [
      "('TÜRKIYE-IRAN SINIR BÖLGESI', 7.6, '37.9800', '44.4800', (1930, 5, 6), (22, 34, 32))\n"
     ]
    }
   ],
   "source": [
    "x = (('TÜRKIYE-IRAN SINIR BÖLGESI',\n",
    "   7.6,\n",
    "   '37.9800',\n",
    "   '44.4800',\n",
    "   (1930, 5, 6),\n",
    "   (22, 34, 32)),\n",
    "  ('KIZILCA-BASKALE (VAN) [South East  20.7 km]',\n",
    "   5.2,\n",
    "   '38.0000',\n",
    "   '44.5000',\n",
    "   (1930, 5, 7),\n",
    "   (13, 48, 0)))\n",
    "\n",
    "print(x[0])"
   ]
  },
  {
   "cell_type": "code",
   "execution_count": 81,
   "metadata": {},
   "outputs": [],
   "source": [
    "if x[0] in top10:\n",
    "    print(True)"
   ]
  },
  {
   "cell_type": "code",
   "execution_count": 82,
   "metadata": {},
   "outputs": [
    {
     "data": {
      "text/plain": [
       "[(('YEMLICE- (VAN) [North West  1.5 km]',\n",
       "   7.2,\n",
       "   '38.7212',\n",
       "   '43.4110',\n",
       "   (2011, 10, 23),\n",
       "   (10, 41, 21)),\n",
       "  ('KOZLUCA- (VAN) [North West  1.8 km]',\n",
       "   4.9,\n",
       "   '38.6693',\n",
       "   '43.5113',\n",
       "   (2011, 10, 24),\n",
       "   (8, 49, 21))),\n",
       " (('YEMLICE- (VAN) [North West  1.5 km]',\n",
       "   7.2,\n",
       "   '38.7212',\n",
       "   '43.4110',\n",
       "   (2011, 10, 23),\n",
       "   (10, 41, 21)),\n",
       "  ('BARDAKCI- (VAN) [North East  1.8 km]',\n",
       "   4.8,\n",
       "   '38.5747',\n",
       "   '43.2832',\n",
       "   (2011, 10, 24),\n",
       "   (8, 28, 29))),\n",
       " (('YEMLICE- (VAN) [North West  1.5 km]',\n",
       "   7.2,\n",
       "   '38.7212',\n",
       "   '43.4110',\n",
       "   (2011, 10, 23),\n",
       "   (10, 41, 21)),\n",
       "  ('DIBEKDUZU- (VAN) [North West  1.7 km]',\n",
       "   4.7,\n",
       "   '38.6512',\n",
       "   '43.2258',\n",
       "   (2011, 10, 24),\n",
       "   (4, 43, 1))),\n",
       " (('UGUR- (DUZCE) [North East  0.3 km]',\n",
       "   7.2,\n",
       "   '40.7400',\n",
       "   '31.2100',\n",
       "   (1999, 11, 12),\n",
       "   (16, 57, 21)),\n",
       "  ('BAKACAK-GOLYAKA (DUZCE) [South East  2.4 km]',\n",
       "   4.7,\n",
       "   '40.7200',\n",
       "   '31.0000',\n",
       "   (1999, 11, 13),\n",
       "   (0, 54, 0))),\n",
       " (('YEMLICE- (VAN) [North West  1.5 km]',\n",
       "   7.2,\n",
       "   '38.7212',\n",
       "   '43.4110',\n",
       "   (2011, 10, 23),\n",
       "   (10, 41, 21)),\n",
       "  ('YESILSU- (VAN) [South West  1.5 km]',\n",
       "   4.6,\n",
       "   '38.7765',\n",
       "   '43.2762',\n",
       "   (2011, 10, 24),\n",
       "   (5, 54, 59)))]"
      ]
     },
     "execution_count": 82,
     "metadata": {},
     "output_type": "execute_result"
    }
   ],
   "source": [
    "t_rdd_top10 = t_rdd.filter(lambda x: top_10(x[0], top10) == True)\n",
    "t_rdd_top10.take(5)"
   ]
  },
  {
   "cell_type": "markdown",
   "metadata": {},
   "source": [
    "### As it can be seen on the Top_10 function test of the function is working but the codes below should be worked on a cluster in order to see sorted whole data."
   ]
  },
  {
   "cell_type": "code",
   "execution_count": null,
   "metadata": {},
   "outputs": [],
   "source": [
    "t_rdd_top10 = t_rdd_top10.sortBy(lambda x: x[1], ascending=False)\n",
    "t_rdd_top10.take(5)"
   ]
  },
  {
   "cell_type": "code",
   "execution_count": null,
   "metadata": {},
   "outputs": [],
   "source": [
    "results = t_rdd_top10.collect()"
   ]
  },
  {
   "cell_type": "code",
   "execution_count": null,
   "metadata": {},
   "outputs": [],
   "source": [
    "t_rdd_top10.take(28)"
   ]
  },
  {
   "cell_type": "code",
   "execution_count": null,
   "metadata": {},
   "outputs": [],
   "source": []
  }
 ],
 "metadata": {
  "kernelspec": {
   "display_name": "Python 3",
   "language": "python",
   "name": "python3"
  },
  "language_info": {
   "codemirror_mode": {
    "name": "ipython",
    "version": 3
   },
   "file_extension": ".py",
   "mimetype": "text/x-python",
   "name": "python",
   "nbconvert_exporter": "python",
   "pygments_lexer": "ipython3",
   "version": "3.7.3"
  },
  "pycharm": {
   "stem_cell": {
    "cell_type": "raw",
    "metadata": {
     "collapsed": false
    },
    "source": []
   }
  }
 },
 "nbformat": 4,
 "nbformat_minor": 1
}
