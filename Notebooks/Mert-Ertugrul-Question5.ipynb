{
 "cells": [
  {
   "cell_type": "code",
   "execution_count": 10,
   "metadata": {},
   "outputs": [],
   "source": [
    "from pyspark import SparkContext"
   ]
  },
  {
   "cell_type": "code",
   "execution_count": 11,
   "metadata": {},
   "outputs": [],
   "source": [
    "sc = SparkContext.getOrCreate()"
   ]
  },
  {
   "cell_type": "code",
   "execution_count": 12,
   "metadata": {},
   "outputs": [],
   "source": [
    "rdd=sc.textFile(\"datasets/DolarVerileri.txt\")\n",
    "rdd = rdd.map(lambda line : line.replace(\".\",\"\").replace(\",\",\".\"))\n",
    "rdd = rdd.filter(lambda line : len(line.split(\"\\t\")[2]) > 0)\n"
   ]
  },
  {
   "cell_type": "code",
   "execution_count": 13,
   "metadata": {},
   "outputs": [],
   "source": [
    "def splitLine(line):\n",
    "    x = line.split(\"\\t\")\n",
    "    return (x[1],float(x[2]))"
   ]
  },
  {
   "cell_type": "code",
   "execution_count": 14,
   "metadata": {},
   "outputs": [
    {
     "data": {
      "text/plain": [
       "[(1, (('03-01-1950', 2.8), ('02-01-1950', 2.8))),\n",
       " (2, (('04-01-1950', 2.8), ('03-01-1950', 2.8))),\n",
       " (3, (('05-01-1950', 2.8), ('04-01-1950', 2.8))),\n",
       " (4, (('06-01-1950', 2.8), ('05-01-1950', 2.8))),\n",
       " (5, (('09-01-1950', 2.8), ('06-01-1950', 2.8)))]"
      ]
     },
     "execution_count": 14,
     "metadata": {},
     "output_type": "execute_result"
    }
   ],
   "source": [
    "rdd = rdd.map(lambda line : splitLine(line) )\n",
    "rdd1 = rdd.zipWithIndex().map(lambda x : (x[1],x[0]))\n",
    "rdd2 = rdd1.map(lambda x: (x[0]+1,x[1]))\n",
    "joinedRDD = rdd1.join(rdd2).sortBy(lambda x: x[0])\n",
    "joinedRDD.take(5)"
   ]
  },
  {
   "cell_type": "code",
   "execution_count": 15,
   "metadata": {},
   "outputs": [],
   "source": [
    "def calculateDiffAndPer(item):\n",
    "    prevDay = item[1][0][1]\n",
    "    curDay = item[1][1][1]\n",
    "    dates = item[1][0][0]+\"-\"+item[1][1][0]\n",
    "    percentage = (curDay-prevDay)/prevDay\n",
    "    return (dates,percentage)"
   ]
  },
  {
   "cell_type": "markdown",
   "metadata": {},
   "source": [
    "### We need to remove the end of the year 2004 when 6 zeros were droped from TL"
   ]
  },
  {
   "cell_type": "markdown",
   "metadata": {},
   "source": [
    "## The mosd depericiated day of Turkish Lira\n",
    "*Except 31.12.2004 it is the day when 6 zeros were droped*"
   ]
  },
  {
   "cell_type": "code",
   "execution_count": 16,
   "metadata": {},
   "outputs": [
    {
     "name": "stdout",
     "output_type": "stream",
     "text": [
      "[('03-01-2005-31-12-2004', 1001566.1641791044), ('27-02-2001-26-02-2001', 0.13387001667536716), ('31-10-2008-30-10-2008', 0.12666666666666662), ('25-03-1991-22-03-1991', 0.122293930234458), ('11-04-1994-08-04-1994', 0.09863817067204128)]\n"
     ]
    }
   ],
   "source": [
    "joinedRDD=joinedRDD.map(lambda x : calculateDiffAndPer(x))\n",
    "joinedRDD=joinedRDD.sortBy(lambda x :x[1],ascending=False)\n",
    "\n",
    "\n",
    "joinedRDD = joinedRDD.filter(lambda x: x[0] != '03-01-2005-31-12-2004')\n",
    "\n",
    "print(joinedRDD.take(5))"
   ]
  },
  {
   "cell_type": "code",
   "execution_count": null,
   "metadata": {},
   "outputs": [],
   "source": []
  }
 ],
 "metadata": {
  "kernelspec": {
   "display_name": "Python 3",
   "language": "python",
   "name": "python3"
  },
  "language_info": {
   "codemirror_mode": {
    "name": "ipython",
    "version": 3
   },
   "file_extension": ".py",
   "mimetype": "text/x-python",
   "name": "python",
   "nbconvert_exporter": "python",
   "pygments_lexer": "ipython3",
   "version": "3.7.3"
  }
 },
 "nbformat": 4,
 "nbformat_minor": 2
}
